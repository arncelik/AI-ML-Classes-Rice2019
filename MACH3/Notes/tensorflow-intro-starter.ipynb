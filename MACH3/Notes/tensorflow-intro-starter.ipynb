{
 "cells": [
  {
   "cell_type": "markdown",
   "metadata": {},
   "source": [
    "Intro to Tensorflow\n",
    "---\n",
    "\n",
    "Import tensorflow and other needed libraries here:"
   ]
  },
  {
   "cell_type": "code",
   "execution_count": 1,
   "metadata": {},
   "outputs": [],
   "source": [
    "# TODO: Add imports.\n",
    "import tensorflow as tf"
   ]
  },
  {
   "cell_type": "markdown",
   "metadata": {},
   "source": [
    "Clear the Graph\n",
    "---\n",
    "Clear the default graph to reset everything back to default"
   ]
  },
  {
   "cell_type": "code",
   "execution_count": 3,
   "metadata": {},
   "outputs": [],
   "source": [
    "# TODO: Clear the tensorflow graph\n",
    "tf.reset_default_graphs()\n",
    "\n",
    "input_data = tf.placeholder(dtype=tf.float32, shape=None)\n",
    "output_data = tf.placeholder(dtype=tf.float32, shape=None)"
   ]
  },
  {
   "cell_type": "markdown",
   "metadata": {},
   "source": [
    "Set up Placeholders\n",
    "---\n",
    "Placeholders are places you can feed data into your model. They indicate a value that you'll feed in later when the network is run."
   ]
  },
  {
   "cell_type": "code",
   "execution_count": 4,
   "metadata": {},
   "outputs": [],
   "source": [
    "# TODO: Create placeholders\n",
    "tf.placeholder\n",
    "\n",
    "input_data = tf.placeholder(dtype=tf.float32, shape=None)\n",
    "\n",
    "double_operation = input_data * 2"
   ]
  },
  {
   "cell_type": "markdown",
   "metadata": {},
   "source": [
    "Variables\n",
    "---\n",
    "Variables keep their value between runs. These are the building blocks of machine learning, and represent the parameters that will be tuned as your model trains"
   ]
  },
  {
   "cell_type": "code",
   "execution_count": 6,
   "metadata": {},
   "outputs": [],
   "source": [
    "# TODO: Create variables\n"
   ]
  },
  {
   "cell_type": "markdown",
   "metadata": {},
   "source": [
    "Running a Session\n",
    "---\n",
    "Once your graph is built, you can start a session. Putting the session in a `with` statement allows the session to automatically close once the statement finishes:\n",
    "```\n",
    "with tf.Session() as sess:\n",
    "    # Run the session in here\n",
    "    ...\n",
    "# Session closes when you get here\n",
    "```"
   ]
  },
  {
   "cell_type": "code",
   "execution_count": 7,
   "metadata": {},
   "outputs": [],
   "source": [
    "# TODO: Run a sessionS\n",
    "with tf.Session() as sees:\n",
    "    print(sess.run(double_operation, feed_dict={input_data: 2.0}))"
   ]
  },
  {
   "cell_type": "markdown",
   "metadata": {},
   "source": [
    "Neurons and Neural Networks\n",
    "---\n",
    "Tensorflow provides functions to easily create layers of neurons for a neural network."
   ]
  }
 ],
 "metadata": {
  "kernelspec": {
   "display_name": "Python 3",
   "language": "python",
   "name": "python3"
  },
  "language_info": {
   "codemirror_mode": {
    "name": "ipython",
    "version": 3
   },
   "file_extension": ".py",
   "mimetype": "text/x-python",
   "name": "python",
   "nbconvert_exporter": "python",
   "pygments_lexer": "ipython3",
   "version": "3.7.1"
  }
 },
 "nbformat": 4,
 "nbformat_minor": 2
}
